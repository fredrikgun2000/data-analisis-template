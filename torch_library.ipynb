{
 "cells": [
  {
   "cell_type": "markdown",
   "id": "fa9162b5",
   "metadata": {},
   "source": [
    "# starting package"
   ]
  },
  {
   "cell_type": "markdown",
   "id": "dc5525c7",
   "metadata": {},
   "source": [
    "basic start"
   ]
  },
  {
   "cell_type": "code",
   "execution_count": 11,
   "id": "45bf7bcb",
   "metadata": {},
   "outputs": [
    {
     "data": {
      "text/plain": [
       "device(type='cuda')"
      ]
     },
     "execution_count": 11,
     "metadata": {},
     "output_type": "execute_result"
    }
   ],
   "source": [
    "import torch\n",
    "import matplotlib.pyplot as plt\n",
    "\n",
    "from torch import nn, optim\n",
    "from torchvision import datasets, transforms\n",
    "from torch.utils.data import DataLoader\n",
    "from jcopdl.layers import linear_block\n",
    "from jcopdl.callback import Callback, set_config\n",
    "from tqdm.auto import tqdm\n",
    "\n",
    "device=torch.device(\"cuda\" if torch.cuda.is_available() else \"cpu\")\n",
    "device"
   ]
  },
  {
   "cell_type": "markdown",
   "id": "abbcbdc7",
   "metadata": {},
   "source": [
    "# Dataset & DataLoader"
   ]
  },
  {
   "cell_type": "markdown",
   "id": "c1c94e34",
   "metadata": {},
   "source": [
    "dataset image"
   ]
  },
  {
   "cell_type": "code",
   "execution_count": null,
   "id": "952da54a",
   "metadata": {},
   "outputs": [],
   "source": [
    "transform=transforms.Compose([\n",
    "    transforms.ToTensor()\n",
    "])\n",
    "\n",
    "bs=0\n",
    "\n",
    "train_dir='folder train'\n",
    "train_set=datasets.ImageFolder(train_dir)\n",
    "trainloader=DataLoader(train_set, batch_size=bs, shuffle=True, num_workers=2)\n",
    "\n",
    "test_dir='folder test'\n",
    "test_set=datasets.ImageFolder(test-dir)\n",
    "testloader=DataLoader(test_set, batch_size=bs, shuffle=True, num_workers=2) "
   ]
  },
  {
   "cell_type": "markdown",
   "id": "96d0551b",
   "metadata": {},
   "source": [
    "Dataset aksara"
   ]
  },
  {
   "cell_type": "code",
   "execution_count": null,
   "id": "0672c12e",
   "metadata": {},
   "outputs": [],
   "source": [
    "from sklearn.model_selection import train_test_split\n",
    "from sklearn.pipeline import Pipeline\n",
    "from sklearn.compose import ColumnTransformer\n",
    "from sklearn.preprocessing import StandardScaler, MinMaxScaler,OneHotEncoder\n",
    "from sklearn.impute import SimpleImputer\n",
    "from torch.utils.data import TensorDataset\n",
    "\n",
    "random_state=42;\n",
    "\n",
    "X_train, X_test, y_train, y_test=train_test_split(X, y, test_size=0.2, stratify=y, random_state=random_state)\n",
    "X_train, X_val, y_train, y_test=train_test_split(X_train, y_train, test_size=0.25, stratify=y, random_state=random_state)\n",
    "\n",
    "numeric=Pipeline([\n",
    "    ('imputer',SimpleImputer(strategy=\"median\")),\n",
    "    (\"scaler\",MinMaxScaler())\n",
    "])\n",
    "\n",
    "categorical=Pipeline([\n",
    "    ('imputer',SimpleImputer(strategy=\"most_frequent\")),\n",
    "    (\"onehot\",OneHotEncoder())\n",
    "])\n",
    "\n",
    "preprocessor=ColumnTransformer([\n",
    "    ('numeric', numeric, ['column feature numeric']),\n",
    "    ('categoric', categorical, ['column feature categorical'])\n",
    "])\n",
    "\n",
    "X_train=preprocessor.fit_transform(X_train)\n",
    "X_test=preprocessor.transform(X_test)\n",
    "\n",
    "X_train=torch.LongTensor(X_train).to(device)\n",
    "X_test=torch.LongTensor(X_test).to(device)\n",
    "y_train=torch.LongTensor(X_train).to(device)\n",
    "y_test=torch.LongTensor(X_test).to(device)\n",
    "\n",
    "bs=0\n",
    "\n",
    "train_set=TensorDataset(X_train,y_train),\n",
    "trainloader=DataLoader(train_set, batch_size=bs, shuffle=True, num_workers=2)\n",
    "\n",
    "\n",
    "train_set=TensorDataset(X_test,y_test),\n",
    "trainloader=DataLoader(train_set, batch_size=bs)"
   ]
  },
  {
   "cell_type": "markdown",
   "id": "38e02d01",
   "metadata": {},
   "source": [
    "# Arsitektur & Config"
   ]
  },
  {
   "cell_type": "code",
   "execution_count": null,
   "id": "22726204",
   "metadata": {},
   "outputs": [],
   "source": [
    "Class CustomClassifier(nn.Module):\n",
    "    def __init__(self, input_size, n1, n2, output_size, dropout=0.2):\n",
    "        super().__init__()\n",
    "        self.fc=nn.Sequential(\n",
    "            nn.Flatten(),\n",
    "            \n",
    "            nn.Linear(input_size, n1),\n",
    "            nn.ReLU(),\n",
    "            nn.Dropout(dropout)\n",
    "            \n",
    "            nn.Linear(n1, n2),\n",
    "            nn.ReLU(),\n",
    "            nn.Dropout(dropout)\n",
    "            \n",
    "            nn.Linear(n2, output_size),\n",
    "            nn.LogSoftmax(1),\n",
    "        )\n",
    "        \n",
    "    def forward(self,x):\n",
    "        return self.fc(x)"
   ]
  },
  {
   "cell_type": "code",
   "execution_count": 9,
   "id": "09134e79",
   "metadata": {},
   "outputs": [],
   "source": [
    "config= set_config({\n",
    "    \"input_size\":input_size,\n",
    "    \"n1\":n1,\n",
    "    \"n2\":n2,\n",
    "    \"output_size\": len(train_set.classes),\n",
    "    \"dropout\":dropout\n",
    "})"
   ]
  },
  {
   "cell_type": "markdown",
   "id": "6bb896bf",
   "metadata": {},
   "source": [
    "# Training Preparation ( MCOC )"
   ]
  },
  {
   "cell_type": "code",
   "execution_count": null,
   "id": "106e14c2",
   "metadata": {},
   "outputs": [],
   "source": [
    "model=CustomClassifier(config.input_size, config.n1, config.n2, config.output_size, config.dropout).to(device)\n",
    "citerion=nn.NLLLoss()\n",
    "optimizer=optim.AdamW(model.parameters(), lr=0.001)\n",
    "callback=Callback(model, config, outdir=\"your directory\", save_every=20, early_stop_patience=5, plot_every= 20)"
   ]
  },
  {
   "cell_type": "markdown",
   "id": "1f3c9bc6",
   "metadata": {},
   "source": [
    "# Training"
   ]
  },
  {
   "cell_type": "code",
   "execution_count": null,
   "id": "e722c5f9",
   "metadata": {},
   "outputs": [],
   "source": [
    "def loop_fn(mode, dataset, dataloader, model, citerion, optimizer, device):\n",
    "    if mode =='train':\n",
    "        model.train()\n",
    "    elif mode =='test':\n",
    "        model.eval()\n",
    "    cost = correct = 0\n",
    "    for feature, target in tqdm(dataloader, desc=mode.title()):\n",
    "        feature, target=feature.to(device), target.to(device)\n",
    "        output = model(feature)\n",
    "        loss = citerion(output, target)\n",
    "        \n",
    "        if mode == 'train':\n",
    "            loss.bacward()\n",
    "            optimizer.step()\n",
    "            optimizer.zero_grad()\n",
    "        \n",
    "        cost += loss.item() * feature.shape[0]\n",
    "        correct += (output.argmax(1) == target).sum().item()\n",
    "    cost = cost / len(dataset)\n",
    "    acc = correct / len(dataset)\n",
    "    return cost, acc    "
   ]
  },
  {
   "cell_type": "code",
   "execution_count": null,
   "id": "00bd7b26",
   "metadata": {},
   "outputs": [],
   "source": [
    "while True:\n",
    "    train_cost, train_score = loop_fn(\"train\", train_set, trainloader, model, citerion, optimizer, device)\n",
    "    with torch.no_grad():\n",
    "        test_cost, test_score = loop_fn(\"test\", test_set, testloader, model, citerion, optimizer, device)\n",
    "        \n",
    "    callback.log(train_cost, test_cost, train_score, test_score)\n",
    "    callback.save_checkpoint()\n",
    "    callback.cost_runtime_plotting()\n",
    "    callback.score_runtime_plotting()\n",
    "    \n",
    "    if callback.early_stopping(model, monitor=\"score_test\"):\n",
    "        callback.plot_cost()\n",
    "        callback.plot_score()\n",
    "        break"
   ]
  },
  {
   "cell_type": "markdown",
   "id": "c9f72127",
   "metadata": {},
   "source": [
    "# Load Model"
   ]
  },
  {
   "cell_type": "code",
   "execution_count": null,
   "id": "9a7ca6de",
   "metadata": {},
   "outputs": [],
   "source": [
    "weights=torch.load(\"your directory/weights_best.pth\", map_location=\"cpu\")\n",
    "config=torch.load(\"your directory/configs.pth\", map_location=\"cpu\")\n",
    "\n",
    "model=CustomClassifier(config.input_size, config.n1, config.n2, config.output_size, config.dropout)\n",
    "model.load_state_dict(weights)\n",
    "model=model.to(device)"
   ]
  },
  {
   "cell_type": "markdown",
   "id": "2c1e4971",
   "metadata": {},
   "source": [
    "# Predict"
   ]
  },
  {
   "cell_type": "code",
   "execution_count": null,
   "id": "a23931de",
   "metadata": {},
   "outputs": [],
   "source": [
    "feature, target = next(iter(testloader))\n",
    "feature, target = feature.to(device), target.to(device)\n",
    "\n",
    "with torch.no_grad():\n",
    "    model.aval()\n",
    "    output = model(feature)\n",
    "    predictions = output.argmax(1)\n",
    "[label2cat[prediction] for prediction in predictions]"
   ]
  },
  {
   "cell_type": "markdown",
   "id": "0d8d5fc7",
   "metadata": {},
   "source": [
    "# Visualisasi Predictions ( image dataset ) "
   ]
  },
  {
   "cell_type": "code",
   "execution_count": null,
   "id": "38c6940c",
   "metadata": {},
   "outputs": [],
   "source": [
    "fig, axes = plt.subplots(5, 5, figsize=(25, 25))\n",
    "for img, label, prediction, ax in zip(feature, target, predictions, axes.flatten()):\n",
    "    ax.imshow(img.view(28, 28).cpu(), cmap='')\n",
    "    font= {'color' : 'r'} if label != pred else {'color' : 'g'}\n",
    "    label, prediction = label2cat[label.item()], label2cat[pred.item()]\n",
    "    ax.set_title(f\" Label: {label} | Pred: {prediction}\",fontdict = font);\n",
    "    ax.axis('off')''"
   ]
  },
  {
   "cell_type": "code",
   "execution_count": null,
   "id": "28ab1eb2",
   "metadata": {},
   "outputs": [],
   "source": []
  },
  {
   "cell_type": "code",
   "execution_count": null,
   "id": "cf649e22",
   "metadata": {},
   "outputs": [],
   "source": []
  },
  {
   "cell_type": "code",
   "execution_count": null,
   "id": "a366b2f2",
   "metadata": {},
   "outputs": [],
   "source": []
  }
 ],
 "metadata": {
  "kernelspec": {
   "display_name": "Python 3",
   "language": "python",
   "name": "python3"
  },
  "language_info": {
   "codemirror_mode": {
    "name": "ipython",
    "version": 3
   },
   "file_extension": ".py",
   "mimetype": "text/x-python",
   "name": "python",
   "nbconvert_exporter": "python",
   "pygments_lexer": "ipython3",
   "version": "3.7.6"
  },
  "varInspector": {
   "cols": {
    "lenName": 16,
    "lenType": 16,
    "lenVar": 40
   },
   "kernels_config": {
    "python": {
     "delete_cmd_postfix": "",
     "delete_cmd_prefix": "del ",
     "library": "var_list.py",
     "varRefreshCmd": "print(var_dic_list())"
    },
    "r": {
     "delete_cmd_postfix": ") ",
     "delete_cmd_prefix": "rm(",
     "library": "var_list.r",
     "varRefreshCmd": "cat(var_dic_list()) "
    }
   },
   "types_to_exclude": [
    "module",
    "function",
    "builtin_function_or_method",
    "instance",
    "_Feature"
   ],
   "window_display": false
  }
 },
 "nbformat": 4,
 "nbformat_minor": 5
}
